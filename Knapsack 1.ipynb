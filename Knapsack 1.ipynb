{
 "cells": [
  {
   "cell_type": "code",
   "execution_count": null,
   "metadata": {},
   "outputs": [],
   "source": [
    "import numpy as np\n",
    "def _init_pop_gen(n, m):\n",
    "    grid=[]\n",
    "    row_init=np.random.randint(2, size=m)\n",
    "    grid=row_init\n",
    "    i=1\n",
    "    while i<n:\n",
    "        row=np.random.randint(2, size=m)\n",
    "        grid=np.vstack((grid,row))\n",
    "        grid=np.unique(grid,axis=0)\n",
    "        i=np.size(grid,0)\n",
    "    return grid"
   ]
  },
  {
   "cell_type": "code",
   "execution_count": null,
   "metadata": {},
   "outputs": [],
   "source": [
    "def _check(grid,weight,max_w):\n",
    "    grid=np.unique(grid,axis=0)\n",
    "    (n,m)=grid.shape\n",
    "    t_weight=[]\n",
    "    for i in range(n):\n",
    "        t_weight.append(0)\n",
    "        for j in range(m):\n",
    "            t_weight[i]+=grid[i][j]*weight[j]\n",
    "    count=0\n",
    "    for i in range(n):\n",
    "        if (t_weight[i]>max_w):\n",
    "            grid=np.delete(grid, i-count, 0)\n",
    "            count+=1\n",
    "    return grid"
   ]
  },
  {
   "cell_type": "code",
   "execution_count": null,
   "metadata": {},
   "outputs": [],
   "source": [
    "def _fitness(grid,profit):\n",
    "    (n,m)=grid.shape\n",
    "    fitness=[]\n",
    "    for i in range(n):\n",
    "        fitness.append(0)\n",
    "        for j in range(m):\n",
    "            fitness[i]+=grid[i][j]*profit[j]\n",
    "    return fitness"
   ]
  },
  {
   "cell_type": "code",
   "execution_count": null,
   "metadata": {},
   "outputs": [],
   "source": [
    "def _selection(n,fitness):\n",
    "    sorted=np.sort(fitness)[::-1]\n",
    "    indices=np.argsort(fitness)[::-1]\n",
    "    cf=[]\n",
    "    cf.append(0)\n",
    "    cf[0]=sorted[0]\n",
    "    for i in range(1,n):\n",
    "        cf.append(0)\n",
    "        cf[i]=cf[i-1]+sorted[i]\n",
    "    num=np.random.randint(cf[n-1])\n",
    "    i=0\n",
    "    while (cf[i]<num):\n",
    "        i=i+1\n",
    "    return indices[i]"
   ]
  },
  {
   "cell_type": "code",
   "execution_count": null,
   "metadata": {},
   "outputs": [],
   "source": [
    "def _death(mor,grid,fitness,profit):\n",
    "    (n,m)=grid.shape\n",
    "    no_mo=(mor*n*m)//100\n",
    "    mortality=[]\n",
    "    max_fitness=np.sum(profit)\n",
    "    for i in range(n):\n",
    "        mortality.append(0)\n",
    "        mortality[i]=max_fitness-fitness[i]\n",
    "    for i in range(no_mo):\n",
    "        n=np.size(grid,0)\n",
    "        c=_selection(n,mortality)\n",
    "        grid=np.delete(grid, c, 0)\n",
    "        mortality=np.delete(mortality, c, 0)\n",
    "    return grid"
   ]
  },
  {
   "cell_type": "code",
   "execution_count": null,
   "metadata": {},
   "outputs": [],
   "source": [
    "def _crossover(cor,grid,fitness,profit):\n",
    "    (n,m)=grid.shape\n",
    "    no_co=(cor*n*m)//100\n",
    "    for i in range(no_co):\n",
    "        p=np.random.randint(0,m)\n",
    "        while True:\n",
    "            c1=_selection(n,fitness)\n",
    "            c2=_selection(n,fitness)\n",
    "            if (c1!=c2):\n",
    "                break\n",
    "        child1=np.hstack((grid[c1,0:p], grid[c2,p:m]))\n",
    "        child2=np.hstack((grid[c2,0:p],grid[c1,p:m]))\n",
    "        grid=np.vstack((grid,child1))\n",
    "        grid=np.vstack((grid,child2))\n",
    "        n=np.size(grid,0)\n",
    "        fitness=_fitness(grid,profit)\n",
    "    return grid"
   ]
  },
  {
   "cell_type": "code",
   "execution_count": null,
   "metadata": {},
   "outputs": [],
   "source": [
    "def _mutation(mr,grid,fitness,profit):\n",
    "    (n,m)=grid.shape\n",
    "    no_mu=(mr*n*m)//100\n",
    "    for i in range(no_mu):\n",
    "        p=np.random.randint(0,m-1)\n",
    "        c=_selection(n,fitness)\n",
    "        if (grid[c,p]==1):\n",
    "            grid[c,p]=0\n",
    "        else:\n",
    "            grid[c,p]=1\n",
    "        fitness=_fitness(grid,profit)\n",
    "    return grid"
   ]
  },
  {
   "cell_type": "code",
   "execution_count": null,
   "metadata": {},
   "outputs": [],
   "source": [
    "from matplotlib import pyplot as plt\n",
    "def _display(arr):\n",
    "    plt.plot(arr)\n",
    "    plt.show()"
   ]
  },
  {
   "cell_type": "code",
   "execution_count": null,
   "metadata": {},
   "outputs": [],
   "source": [
    "m=10#int(input('Enter the number of cells\\t:'))\n",
    "n=int(input('Enter number of chromosomes\\t:'))\n",
    "grid=_init_pop_gen(n,m)\n",
    "profit=[92,57,49,68,60,43,67,84,87,72]\n",
    "#for i in range(m):\n",
    "#    pro=int(input('\\nEnter profit['+str(i+1)+']\\t:'))\n",
    "#    profit.append(pro)\n",
    "weight=[23,31,29,44,53,38,63,85,89,82]\n",
    "#for i in range(m):\n",
    "#    wt=int(input('\\nEnter weight['+str(i+1)+']\\t:'))\n",
    "#    weight.append(wt)\n",
    "max_w=165#int(input('\\nenter maximum weight limit of Knapsack!\\n'))\n",
    "grid=_check(grid,weight,max_w)\n",
    "fitness=_fitness(grid,profit)\n",
    "cor=10#int(input('\\nenter crossover rate:\\t'))\n",
    "mor=3#int(input('\\nenter mortality rate:\\t'))\n",
    "mr=1#int(input('\\nenter mutation rate:\\t'))\n",
    "r_grid=[]\n",
    "r_fitness=[]\n",
    "print('\\nshape:\\t',grid.shape)\n",
    "no_gen=int(input('\\n\\nEnter no of Generations:\\t'))\n",
    "gen=0\n",
    "\n",
    "while(gen<no_gen):\n",
    "    grid=_crossover(cor,grid,fitness,profit)\n",
    "    grid=_check(grid,weight,max_w)\n",
    "    fitness=_fitness(grid,profit)\n",
    "    grid=_mutation(mr,grid,fitness,profit)\n",
    "    grid=_check(grid,weight,max_w)\n",
    "    fitness=_fitness(grid,profit)\n",
    "    #grid=_death(mor,grid,fitness,profit)\n",
    "    #fitness=_fitness(grid,profit)\n",
    "    q=np.argmax(fitness)\n",
    "    r_grid.append(grid[q])\n",
    "    r_fitness.append(fitness[q])\n",
    "    gen+=1\n",
    "\n",
    "print('\\n\\nPopulation\\n',r_grid)\n",
    "print('\\n\\nFitness\\n',r_fitness)\n",
    "_display(r_fitness)\n",
    "q=np.argmax(r_fitness)\n",
    "print('\\n\\nOptimum Solution\\n',r_grid[q])\n",
    "print('\\n\\nMax Fitness:\\t',r_fitness[q])"
   ]
  },
  {
   "cell_type": "code",
   "execution_count": null,
   "metadata": {},
   "outputs": [],
   "source": []
  }
 ],
 "metadata": {
  "kernelspec": {
   "display_name": "Python 3",
   "language": "python",
   "name": "python3"
  },
  "language_info": {
   "codemirror_mode": {
    "name": "ipython",
    "version": 3
   },
   "file_extension": ".py",
   "mimetype": "text/x-python",
   "name": "python",
   "nbconvert_exporter": "python",
   "pygments_lexer": "ipython3",
   "version": "3.6.5"
  }
 },
 "nbformat": 4,
 "nbformat_minor": 2
}
